{
 "cells": [
  {
   "cell_type": "code",
   "execution_count": 1,
   "metadata": {},
   "outputs": [
    {
     "output_type": "execute_result",
     "data": {
      "text/plain": "' VMP 2022-03-05: \\nbased on Analysis_RASMUS.ipynb\\nsome changes to make it work & some warnings.\\ndouble-check with Nielbo. \\n'"
     },
     "metadata": {},
     "execution_count": 1
    }
   ],
   "source": [
    "''' VMP 2022-03-05: \n",
    "based on Analysis_RASMUS.ipynb\n",
    "some changes to make it work & some warnings.\n",
    "double-check with Nielbo. \n",
    "'''"
   ]
  },
  {
   "cell_type": "code",
   "execution_count": 21,
   "metadata": {
    "scrolled": true
   },
   "outputs": [
    {
     "output_type": "stream",
     "name": "stderr",
     "text": "/home/coder/.local/lib/python3.7/site-packages/ipykernel/ipkernel.py:287: DeprecationWarning: `should_run_async` will not call `transform_cell` automatically in the future. Please pass the result to `transformed_cell` argument and any exception that happen during thetransform in `preprocessing_exc_tuple` in IPython 7.17 and above.\n  and should_run_async(code)\n"
    }
   ],
   "source": [
    "#### Imports\n",
    "import pandas as pd \n",
    "import pickle as pkl \n",
    "import altair as alt\n",
    "import numpy as np \n",
    "import os \n",
    "import re\n",
    "import pyLDAvis\n",
    "import gensim\n",
    "import openpyxl"
   ]
  },
  {
   "cell_type": "markdown",
   "metadata": {},
   "source": [
    "# Load data"
   ]
  },
  {
   "cell_type": "code",
   "execution_count": 3,
   "metadata": {},
   "outputs": [
    {
     "output_type": "stream",
     "name": "stderr",
     "text": "/home/coder/.local/lib/python3.7/site-packages/ipykernel/ipkernel.py:287: DeprecationWarning: `should_run_async` will not call `transform_cell` automatically in the future. Please pass the result to `transformed_cell` argument and any exception that happen during thetransform in `preprocessing_exc_tuple` in IPython 7.17 and above.\n  and should_run_async(code)\n"
    }
   ],
   "source": [
    "# function which is basically the same as in \"helper_functions\" but manages new paths \n",
    "def prep_data(filepath):\n",
    "    \"\"\"Preparing the data\n",
    "\n",
    "    Returns:\n",
    "        pd.Dataframes: Returns three dataframes - the whole dataset, the diplomats and the media.\n",
    "    \"\"\"    \n",
    "    en_df = pd.read_csv(filepath)\n",
    "\n",
    "    en_df['month'] = pd.DatetimeIndex(en_df['created_at']).month\n",
    "    en_df['date'] = pd.DatetimeIndex(en_df['created_at']).date\n",
    "    \n",
    "    \n",
    "    def retweet_binary(string):\n",
    "        if string == \"retweeted\":\n",
    "            return \"Retweet\"\n",
    "        else:\n",
    "            return \"Other\"\n",
    "\n",
    "    en_df[\"retweet_bin\"] = en_df[\"retweet\"].apply(lambda x: retweet_binary(x))\n",
    "    \n",
    "    en_df[\"date\"] = pd.to_datetime(en_df[\"date\"])\n",
    "    \n",
    "    return en_df, en_df[en_df[\"category\"] == \"Diplomat\"].reset_index(drop=True), en_df[en_df[\"category\"] == \"Media\"].reset_index(drop=True)\n",
    "    "
   ]
  },
  {
   "cell_type": "code",
   "execution_count": 17,
   "metadata": {},
   "outputs": [
    {
     "output_type": "stream",
     "name": "stderr",
     "text": "/home/coder/.local/lib/python3.7/site-packages/ipykernel/ipkernel.py:287: DeprecationWarning: `should_run_async` will not call `transform_cell` automatically in the future. Please pass the result to `transformed_cell` argument and any exception that happen during thetransform in `preprocessing_exc_tuple` in IPython 7.17 and above.\n  and should_run_async(code)\n"
    }
   ],
   "source": [
    "data, diplomats, media = prep_data('../data/all_data.csv')"
   ]
  },
  {
   "cell_type": "markdown",
   "metadata": {},
   "source": [
    "# Load models"
   ]
  },
  {
   "cell_type": "code",
   "execution_count": 6,
   "metadata": {},
   "outputs": [
    {
     "output_type": "stream",
     "name": "stderr",
     "text": "/home/coder/.local/lib/python3.7/site-packages/ipykernel/ipkernel.py:287: DeprecationWarning: `should_run_async` will not call `transform_cell` automatically in the future. Please pass the result to `transformed_cell` argument and any exception that happen during thetransform in `preprocessing_exc_tuple` in IPython 7.17 and above.\n  and should_run_async(code)\n"
    }
   ],
   "source": [
    "def load_models(filepath_media, filepath_diplomat):\n",
    "    with open(filepath_media, \"rb\") as f:\n",
    "        media = pkl.load(f)\n",
    "    \n",
    "    with open(filepath_diplomat, \"rb\") as f:\n",
    "        diplo = pkl.load(f)\n",
    "        \n",
    "    return media, diplo"
   ]
  },
  {
   "cell_type": "code",
   "execution_count": 18,
   "metadata": {},
   "outputs": [
    {
     "output_type": "stream",
     "name": "stderr",
     "text": "/home/coder/.local/lib/python3.7/site-packages/ipykernel/ipkernel.py:287: DeprecationWarning: `should_run_async` will not call `transform_cell` automatically in the future. Please pass the result to `transformed_cell` argument and any exception that happen during thetransform in `preprocessing_exc_tuple` in IPython 7.17 and above.\n  and should_run_async(code)\n"
    }
   ],
   "source": [
    "media_dict, diplo_dict = load_models('../data/models/alldataMedia.pkl', '../data/models/alldataDiplomat.pkl')"
   ]
  },
  {
   "cell_type": "code",
   "execution_count": 19,
   "metadata": {},
   "outputs": [
    {
     "output_type": "stream",
     "name": "stderr",
     "text": "/home/coder/.local/lib/python3.7/site-packages/ipykernel/ipkernel.py:287: DeprecationWarning: `should_run_async` will not call `transform_cell` automatically in the future. Please pass the result to `transformed_cell` argument and any exception that happen during thetransform in `preprocessing_exc_tuple` in IPython 7.17 and above.\n  and should_run_async(code)\n"
    }
   ],
   "source": [
    "# diplomats without retweets\n",
    "diplo_without = diplomats[diplomats[\"retweet\"] != \"retweeted\"].reset_index(drop = True)"
   ]
  },
  {
   "cell_type": "code",
   "execution_count": 11,
   "metadata": {
    "scrolled": true
   },
   "outputs": [],
   "source": [
    "# VMP 2022-03-05\n",
    "# for the below I have just used the code in Analysis_RASMUS.ipynb\n",
    "# not sure whether diplo_dict() should be filtered for retweets?\n",
    "# made some changes"
   ]
  },
  {
   "cell_type": "code",
   "execution_count": 20,
   "metadata": {},
   "outputs": [
    {
     "output_type": "stream",
     "name": "stderr",
     "text": "/home/coder/.local/lib/python3.7/site-packages/ipykernel/ipkernel.py:287: DeprecationWarning: `should_run_async` will not call `transform_cell` automatically in the future. Please pass the result to `transformed_cell` argument and any exception that happen during thetransform in `preprocessing_exc_tuple` in IPython 7.17 and above.\n  and should_run_async(code)\n\n[INFO] predicting θ...\n*************************\n[INFO] processed 5000/67026\n[INFO] processed 10000/67026\n[INFO] processed 15000/67026\n[INFO] processed 20000/67026\n[INFO] processed 25000/67026\n[INFO] processed 30000/67026\n[INFO] processed 35000/67026\n[INFO] processed 40000/67026\n[INFO] processed 45000/67026\n[INFO] processed 50000/67026\n[INFO] processed 55000/67026\n[INFO] processed 60000/67026\n[INFO] processed 65000/67026\nmaximum number of topics: 30\n*************************\n[INFO] data exported to ../data/theta/diplomats_noretweet_theta_df_all.csv\n[INFO] data exported to ../data/theta/diplomats_noretweet_theta_df_all.xlsx\n"
    }
   ],
   "source": [
    "# Task 1: Diplomat document representation and metadata\n",
    "## add $\\theta$ to to diplomats\n",
    "\n",
    "## comment0: diplo_without, model is trained without retweet to avoid redundancy\n",
    "## comment1: corpus is filtered for extremes with Gensim \n",
    "## comment2 (VMP 2022-03-05): using max_topics, rather than len(theta[0]). \n",
    "\n",
    "# predict theta_i on document in corpus \n",
    "print(f'\\n[INFO] predicting \\u03B8...\\n{\"*\"*25}')\n",
    "verbose = 5000\n",
    "theta = list()\n",
    "for i, doc in enumerate(diplo_dict['corpus']):\n",
    "    vector = diplo_dict['model'][doc]\n",
    "    theta.append(vector[0])\n",
    "    if verbose > 0 and i > 0 and (i + 1) % verbose == 0:\n",
    "        print(f'[INFO] processed {i + 1}/{len(diplo_dict[\"corpus\"])}')\n",
    "# dimension consistent theta array\n",
    "ntopics_lst = [len(doc) for doc in theta]\n",
    "max_topics = max(ntopics_lst)\n",
    "print(f\"maximum number of topics: {max_topics}\")\n",
    "(m, k) = (len(theta), max_topics) #kappa VMP2022-03-05: (previously: (len(theta), len(theta[0])))\n",
    "theta_transform = np.zeros((m, k))\n",
    "for (i, doc) in enumerate(theta):\n",
    "    theta_i = np.zeros((1,30)) # VMP: where is this used?\n",
    "    for j, var in doc:\n",
    "        theta_transform[i,j] = var\n",
    "# write to csv\n",
    "df = pd.DataFrame()\n",
    "for i in range(len(theta_transform[0,:])):\n",
    "    df[f'var {i}'] = theta_transform[:,i]\n",
    "dfout = pd.concat([diplo_without, df], axis=1)\n",
    "fname = os.path.join('..', 'data', 'theta','diplomats_noretweet_theta_df_all.csv')\n",
    "dfout.to_csv(fname, index=False)\n",
    "print(f'{\"*\"*25}\\n[INFO] data exported to {fname}')\n",
    "fname_maxqda = '..' + fname.split('.')[2] + '.xlsx' # VMP2022-03-05: (previously: fname.split('.')[0] + '.xlsx')\n",
    "dfout['created_at'] = dfout['created_at'].astype(str)\n",
    "dfout.to_excel(fname_maxqda, index=False)\n",
    "print(f'[INFO] data exported to {fname_maxqda}')"
   ]
  },
  {
   "cell_type": "code",
   "execution_count": null,
   "metadata": {},
   "outputs": [],
   "source": []
  }
 ],
 "metadata": {
  "kernelspec": {
   "display_name": "Python 3.7.3 64-bit",
   "language": "python",
   "name": "python37364bit4a835b1cda7746b2b1087cc19db1ca6f"
  },
  "language_info": {
   "codemirror_mode": {
    "name": "ipython",
    "version": 3
   },
   "file_extension": ".py",
   "mimetype": "text/x-python",
   "name": "python",
   "nbconvert_exporter": "python",
   "pygments_lexer": "ipython3",
   "version": "3.7.3-final"
  }
 },
 "nbformat": 4,
 "nbformat_minor": 4
}