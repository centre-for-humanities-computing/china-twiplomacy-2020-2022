{
 "cells": [
  {
   "cell_type": "code",
   "execution_count": null,
   "metadata": {},
   "outputs": [],
   "source": [
    "'''\n",
    "VMP 2022-03-05: explore theta\n",
    "'''"
   ]
  },
  {
   "cell_type": "code",
   "execution_count": 2,
   "metadata": {},
   "outputs": [],
   "source": [
    "import pandas as pd \n",
    "import numpy as np\n",
    "import matplotlib.pyplot as plt "
   ]
  },
  {
   "cell_type": "code",
   "execution_count": 3,
   "metadata": {},
   "outputs": [],
   "source": [
    "# read file \n",
    "d = pd.read_csv(\"../data/theta/diplomats_noretweet_theta_df.csv\")"
   ]
  },
  {
   "cell_type": "code",
   "execution_count": 4,
   "metadata": {},
   "outputs": [
    {
     "output_type": "execute_result",
     "data": {
      "text/plain": "   Unnamed: 0  created_at  followers_count  following_count hashtags lang  \\\n0        1107  2020-02-02          18095.0            737.0      NaN   en   \n1       32627  2021-02-27          62348.0            615.0      NaN   en   \n2       32628  2021-02-27          62348.0            615.0      NaN   en   \n3       32629  2021-02-26          62348.0            615.0      NaN   en   \n4       32630  2021-02-26          62348.0            615.0      NaN   en   \n\n   like_count  listed_count  reply_count     retweet  ...    var 15 var 16  \\\n0         3.0         202.0          0.0      quoted  ...  0.000000    0.0   \n1        15.0         633.0          8.0  replied_to  ...  0.000000    0.0   \n2        76.0         633.0         20.0    original  ...  0.359594    0.0   \n3        19.0         633.0          5.0    original  ...  0.000000    0.0   \n4        11.0         633.0          3.0    original  ...  0.000000    0.0   \n\n     var 17  var 18 var 19 var 20 var 21  var 22 var 23 var 24  \n0  0.000000     0.0    0.0    0.0    0.0     0.0    0.0    0.0  \n1  0.000000     0.0    0.0    0.0    0.0     0.0    0.0    0.0  \n2  0.000000     0.0    0.0    0.0    0.0     0.0    0.0    0.0  \n3  0.000000     0.0    0.0    0.0    0.0     0.0    0.0    0.0  \n4  0.193542     0.0    0.0    0.0    0.0     0.0    0.0    0.0  \n\n[5 rows x 45 columns]",
      "text/html": "<div>\n<style scoped>\n    .dataframe tbody tr th:only-of-type {\n        vertical-align: middle;\n    }\n\n    .dataframe tbody tr th {\n        vertical-align: top;\n    }\n\n    .dataframe thead th {\n        text-align: right;\n    }\n</style>\n<table border=\"1\" class=\"dataframe\">\n  <thead>\n    <tr style=\"text-align: right;\">\n      <th></th>\n      <th>Unnamed: 0</th>\n      <th>created_at</th>\n      <th>followers_count</th>\n      <th>following_count</th>\n      <th>hashtags</th>\n      <th>lang</th>\n      <th>like_count</th>\n      <th>listed_count</th>\n      <th>reply_count</th>\n      <th>retweet</th>\n      <th>...</th>\n      <th>var 15</th>\n      <th>var 16</th>\n      <th>var 17</th>\n      <th>var 18</th>\n      <th>var 19</th>\n      <th>var 20</th>\n      <th>var 21</th>\n      <th>var 22</th>\n      <th>var 23</th>\n      <th>var 24</th>\n    </tr>\n  </thead>\n  <tbody>\n    <tr>\n      <th>0</th>\n      <td>1107</td>\n      <td>2020-02-02</td>\n      <td>18095.0</td>\n      <td>737.0</td>\n      <td>NaN</td>\n      <td>en</td>\n      <td>3.0</td>\n      <td>202.0</td>\n      <td>0.0</td>\n      <td>quoted</td>\n      <td>...</td>\n      <td>0.000000</td>\n      <td>0.0</td>\n      <td>0.000000</td>\n      <td>0.0</td>\n      <td>0.0</td>\n      <td>0.0</td>\n      <td>0.0</td>\n      <td>0.0</td>\n      <td>0.0</td>\n      <td>0.0</td>\n    </tr>\n    <tr>\n      <th>1</th>\n      <td>32627</td>\n      <td>2021-02-27</td>\n      <td>62348.0</td>\n      <td>615.0</td>\n      <td>NaN</td>\n      <td>en</td>\n      <td>15.0</td>\n      <td>633.0</td>\n      <td>8.0</td>\n      <td>replied_to</td>\n      <td>...</td>\n      <td>0.000000</td>\n      <td>0.0</td>\n      <td>0.000000</td>\n      <td>0.0</td>\n      <td>0.0</td>\n      <td>0.0</td>\n      <td>0.0</td>\n      <td>0.0</td>\n      <td>0.0</td>\n      <td>0.0</td>\n    </tr>\n    <tr>\n      <th>2</th>\n      <td>32628</td>\n      <td>2021-02-27</td>\n      <td>62348.0</td>\n      <td>615.0</td>\n      <td>NaN</td>\n      <td>en</td>\n      <td>76.0</td>\n      <td>633.0</td>\n      <td>20.0</td>\n      <td>original</td>\n      <td>...</td>\n      <td>0.359594</td>\n      <td>0.0</td>\n      <td>0.000000</td>\n      <td>0.0</td>\n      <td>0.0</td>\n      <td>0.0</td>\n      <td>0.0</td>\n      <td>0.0</td>\n      <td>0.0</td>\n      <td>0.0</td>\n    </tr>\n    <tr>\n      <th>3</th>\n      <td>32629</td>\n      <td>2021-02-26</td>\n      <td>62348.0</td>\n      <td>615.0</td>\n      <td>NaN</td>\n      <td>en</td>\n      <td>19.0</td>\n      <td>633.0</td>\n      <td>5.0</td>\n      <td>original</td>\n      <td>...</td>\n      <td>0.000000</td>\n      <td>0.0</td>\n      <td>0.000000</td>\n      <td>0.0</td>\n      <td>0.0</td>\n      <td>0.0</td>\n      <td>0.0</td>\n      <td>0.0</td>\n      <td>0.0</td>\n      <td>0.0</td>\n    </tr>\n    <tr>\n      <th>4</th>\n      <td>32630</td>\n      <td>2021-02-26</td>\n      <td>62348.0</td>\n      <td>615.0</td>\n      <td>NaN</td>\n      <td>en</td>\n      <td>11.0</td>\n      <td>633.0</td>\n      <td>3.0</td>\n      <td>original</td>\n      <td>...</td>\n      <td>0.000000</td>\n      <td>0.0</td>\n      <td>0.193542</td>\n      <td>0.0</td>\n      <td>0.0</td>\n      <td>0.0</td>\n      <td>0.0</td>\n      <td>0.0</td>\n      <td>0.0</td>\n      <td>0.0</td>\n    </tr>\n  </tbody>\n</table>\n<p>5 rows × 45 columns</p>\n</div>"
     },
     "metadata": {},
     "execution_count": 4
    }
   ],
   "source": [
    "d.head(5)"
   ]
  },
  {
   "cell_type": "code",
   "execution_count": null,
   "metadata": {},
   "outputs": [],
   "source": []
  }
 ],
 "metadata": {
  "kernelspec": {
   "display_name": "Python 3.7.3 64-bit",
   "language": "python",
   "name": "python37364bit439798ec8d4a4bd289c17d1bbcaee88b"
  },
  "language_info": {
   "codemirror_mode": {
    "name": "ipython",
    "version": 3
   },
   "file_extension": ".py",
   "mimetype": "text/x-python",
   "name": "python",
   "nbconvert_exporter": "python",
   "pygments_lexer": "ipython3",
   "version": "3.7.3-final"
  }
 },
 "nbformat": 4,
 "nbformat_minor": 4
}